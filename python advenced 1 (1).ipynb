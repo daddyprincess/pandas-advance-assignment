{
 "cells": [
  {
   "cell_type": "markdown",
   "id": "c430ac5e-0a77-497b-88cd-143e258c1f0b",
   "metadata": {},
   "source": [
    "## 1.List any five functions of the pandas library with execution."
   ]
  },
  {
   "cell_type": "code",
   "execution_count": null,
   "id": "bf3714ec-5ec3-4be1-a58d-58dc6084e361",
   "metadata": {},
   "outputs": [],
   "source": [
    "1.read_csv(): This function is used to read data from a CSV file and create a DataFrame.\n",
    "\n",
    "2.head(): This function is used to display the first n rows of a DataFrame.\n",
    "\n",
    "3.info(): This function provides a summary of the DataFrame, including the column names, data types, and non-null counts.\n",
    "\n",
    "4.describe(): This function computes descriptive statistics of numerical columns in a DataFrame, such as count, mean, min,\n",
    " max, and quartiles.\n",
    "\n",
    "5.groupby(): This function is used to group the data in a DataFrame based on one or more columns and perform aggregate \n",
    " functions on the grouped data."
   ]
  },
  {
   "cell_type": "markdown",
   "id": "37a5a9a0-5a9a-4011-8739-c49cd22f8cfe",
   "metadata": {},
   "source": [
    "### 1.read_csv()"
   ]
  },
  {
   "cell_type": "code",
   "execution_count": null,
   "id": "03707e03-1c2d-4ca0-b971-77d03bc387e7",
   "metadata": {},
   "outputs": [],
   "source": [
    "import pandas as pd\n",
    "\n",
    "# Read data from CSV file\n",
    "df = pd.read_csv('data.csv')\n",
    "\n",
    "# Display the DataFrame\n",
    "print(df)\n"
   ]
  },
  {
   "cell_type": "markdown",
   "id": "fece021f-30d9-4077-b8bc-3e00bfb94be7",
   "metadata": {},
   "source": [
    "### head()"
   ]
  },
  {
   "cell_type": "code",
   "execution_count": 7,
   "id": "5997d23a-41a3-4217-abf6-345d7c61194b",
   "metadata": {},
   "outputs": [
    {
     "name": "stdout",
     "output_type": "stream",
     "text": [
      "    Name  Age\n",
      "0   John   25\n",
      "1  Alice   30\n",
      "2    Bob   28\n"
     ]
    }
   ],
   "source": [
    "import pandas as pd\n",
    "\n",
    "# Create a DataFrame\n",
    "data = {'Name': ['John', 'Alice', 'Bob', 'Emily', 'Michael'],\n",
    "        'Age': [25, 30, 28, 32, 27]}\n",
    "df = pd.DataFrame(data)\n",
    "\n",
    "# Display the first 3 rows of the DataFrame\n",
    "print(df.head(3))\n"
   ]
  },
  {
   "cell_type": "markdown",
   "id": "38924d4b-f516-450d-848d-9f71d40a5fbb",
   "metadata": {},
   "source": [
    "### info()"
   ]
  },
  {
   "cell_type": "code",
   "execution_count": 8,
   "id": "860b4c92-8cc2-42b9-83e5-b77350f358c0",
   "metadata": {},
   "outputs": [
    {
     "name": "stdout",
     "output_type": "stream",
     "text": [
      "<class 'pandas.core.frame.DataFrame'>\n",
      "RangeIndex: 5 entries, 0 to 4\n",
      "Data columns (total 2 columns):\n",
      " #   Column  Non-Null Count  Dtype \n",
      "---  ------  --------------  ----- \n",
      " 0   Name    5 non-null      object\n",
      " 1   Age     5 non-null      int64 \n",
      "dtypes: int64(1), object(1)\n",
      "memory usage: 208.0+ bytes\n",
      "None\n"
     ]
    }
   ],
   "source": [
    "import pandas as pd\n",
    "\n",
    "# Create a DataFrame\n",
    "data = {'Name': ['John', 'Alice', 'Bob', 'Emily', 'Michael'],\n",
    "        'Age': [25, 30, 28, 32, 27]}\n",
    "df = pd.DataFrame(data)\n",
    "\n",
    "# Display the information about the DataFrame\n",
    "print(df.info())\n"
   ]
  },
  {
   "cell_type": "markdown",
   "id": "f73658b3-64fd-4c54-a6bc-fb37c347a956",
   "metadata": {},
   "source": [
    "### describe()"
   ]
  },
  {
   "cell_type": "code",
   "execution_count": 9,
   "id": "f227c209-629e-4115-88d9-ebcf657efd2b",
   "metadata": {},
   "outputs": [
    {
     "name": "stdout",
     "output_type": "stream",
     "text": [
      "             Age\n",
      "count   5.000000\n",
      "mean   28.400000\n",
      "std     2.701851\n",
      "min    25.000000\n",
      "25%    27.000000\n",
      "50%    28.000000\n",
      "75%    30.000000\n",
      "max    32.000000\n"
     ]
    }
   ],
   "source": [
    "import pandas as pd\n",
    "\n",
    "# Create a DataFrame\n",
    "data = {'Age': [25, 30, 28, 32, 27]}\n",
    "df = pd.DataFrame(data)\n",
    "\n",
    "# Compute descriptive statistics\n",
    "print(df.describe())\n"
   ]
  },
  {
   "cell_type": "markdown",
   "id": "533db94c-44b2-4010-a134-06d909facafc",
   "metadata": {},
   "source": [
    "### group by()"
   ]
  },
  {
   "cell_type": "code",
   "execution_count": 10,
   "id": "65172f2d-68f4-4fca-96d9-33219157d35c",
   "metadata": {},
   "outputs": [
    {
     "name": "stdout",
     "output_type": "stream",
     "text": [
      "City\n",
      "Chicago        29.5\n",
      "Los Angeles    30.0\n",
      "New York       26.5\n",
      "Name: Age, dtype: float64\n"
     ]
    }
   ],
   "source": [
    "import pandas as pd\n",
    "\n",
    "# Create a DataFrame\n",
    "data = {'Name': ['John', 'Alice', 'Bob', 'Emily', 'Michael'],\n",
    "        'Age': [25, 30, 28, 32, 27],\n",
    "        'City': ['New York', 'Los Angeles', 'New York', 'Chicago', 'Chicago']}\n",
    "df = pd.DataFrame(data)\n",
    "\n",
    "# Group the data by 'City' column and calculate the mean age for each city\n",
    "grouped_df = df.groupby('City')['Age'].mean()\n",
    "\n",
    "# Display the grouped DataFrame\n",
    "print(grouped_df)\n"
   ]
  },
  {
   "cell_type": "markdown",
   "id": "c204578f-4b7f-467d-a7c0-fb02ecf31c46",
   "metadata": {},
   "source": [
    "## 2.Given a Pandas DataFrame df with columns 'A', 'B', and 'C', write a Python function to re-index the DataFrame with a new index that starts from 1 and increments by 2 for each row."
   ]
  },
  {
   "cell_type": "code",
   "execution_count": 13,
   "id": "8728bc5c-9dd4-47e1-8155-2023db9c93ba",
   "metadata": {},
   "outputs": [
    {
     "name": "stdout",
     "output_type": "stream",
     "text": [
      "    A   B   C\n",
      "1  10  40  70\n",
      "3  20  50  80\n",
      "5  30  60  90\n"
     ]
    }
   ],
   "source": [
    "import pandas as pd\n",
    "\n",
    "# Example DataFrame\n",
    "df = pd.DataFrame({'A': [10, 20, 30], 'B': [40, 50, 60], 'C': [70, 80, 90]})\n",
    "\n",
    "# Re-index the DataFrame\n",
    "reindexed_df = reindex_dataframe(df)\n",
    "\n",
    "# Print the re-indexed DataFrame\n",
    "print(reindexed_df)\n"
   ]
  },
  {
   "cell_type": "markdown",
   "id": "df24e7ad-f65e-44e8-a6ea-4c20feb557d6",
   "metadata": {},
   "source": [
    "## 3.You have a Pandas DataFrame df with a column named 'Values'. Write a Python function that iterates over the DataFrame and calculates the sum of the first three values in the 'Values' column. The function should print the sum to the console."
   ]
  },
  {
   "cell_type": "code",
   "execution_count": 15,
   "id": "4e0cb375-8256-4aeb-ae6b-b0e7528335cd",
   "metadata": {},
   "outputs": [
    {
     "name": "stdout",
     "output_type": "stream",
     "text": [
      "Sum of the first three values: 60\n"
     ]
    }
   ],
   "source": [
    "import pandas as pd\n",
    "\n",
    "def calculate_sum_of_values(df):\n",
    "    # Initialize the sum variable\n",
    "    total_sum = 0\n",
    "\n",
    "    # Iterate over the rows of the DataFrame\n",
    "    for index, row in df.iterrows():\n",
    "        # Add the value to the sum\n",
    "        total_sum += row['Values']\n",
    "\n",
    "        # Break the loop after calculating the sum of the first three values\n",
    "        if index == 2:\n",
    "            break\n",
    "\n",
    "    # Print the sum\n",
    "    print(\"Sum of the first three values:\", total_sum)\n",
    "    \n",
    "import pandas as pd\n",
    "\n",
    "# Example DataFrame\n",
    "df = pd.DataFrame({'Values': [10, 20, 30, 40, 50, 60]})\n",
    "\n",
    "# Call the function to calculate the sum of the first three values\n",
    "calculate_sum_of_values(df)\n",
    "\n"
   ]
  },
  {
   "cell_type": "markdown",
   "id": "07d054a7-aa94-4fbd-9fba-e789120917ab",
   "metadata": {},
   "source": [
    "## 4.Given a Pandas DataFrame df with a column 'Text', write a Python function to create a new column 'Word_Count' that contains the number of words in each row of the 'Text' column."
   ]
  },
  {
   "cell_type": "code",
   "execution_count": 16,
   "id": "14ff194c-4d79-4972-baf2-87e366c9d069",
   "metadata": {},
   "outputs": [
    {
     "name": "stdout",
     "output_type": "stream",
     "text": [
      "                  Text  Word_Count\n",
      "0  Hello, how are you?           4\n",
      "1     I am doing well.           4\n",
      "2     Python is great.           3\n"
     ]
    }
   ],
   "source": [
    "import pandas as pd\n",
    "\n",
    "def add_word_count_column(df):\n",
    "    # Split the text into words and count the number of words in each row\n",
    "    word_counts = df['Text'].str.split().apply(len)\n",
    "\n",
    "    # Add the 'Word_Count' column to the DataFrame\n",
    "    df['Word_Count'] = word_counts\n",
    "\n",
    "    \n",
    "import pandas as pd\n",
    "\n",
    "# Example DataFrame\n",
    "df = pd.DataFrame({'Text': ['Hello, how are you?', 'I am doing well.', 'Python is great.']})\n",
    "\n",
    "# Call the function to add the 'Word_Count' column\n",
    "add_word_count_column(df)\n",
    "\n",
    "# Print the modified DataFrame\n",
    "print(df)\n"
   ]
  },
  {
   "cell_type": "markdown",
   "id": "4463f33d-8cfb-4701-aa45-45fa164f96bc",
   "metadata": {},
   "source": [
    "## 5. How are DataFrame.size() and DataFrame.shape() different?"
   ]
  },
  {
   "cell_type": "markdown",
   "id": "13b1fc12-bc1c-4868-a8cf-46fbe5cf3e6f",
   "metadata": {},
   "source": [
    "### dataframe.size()"
   ]
  },
  {
   "cell_type": "code",
   "execution_count": null,
   "id": "b0798ae4-70a3-48fa-8b3e-043ef2c466f9",
   "metadata": {},
   "outputs": [],
   "source": [
    " DataFrame.size: The DataFrame.size method returns the total number of elements in the DataFrame, which is calculated as \n",
    "the product of the number of rows and columns. It provides the total count of elements in the DataFrame, including both \n",
    "the row and column elements."
   ]
  },
  {
   "cell_type": "code",
   "execution_count": 17,
   "id": "ee5907d6-e637-43db-bd07-b0c25d085c88",
   "metadata": {},
   "outputs": [
    {
     "name": "stdout",
     "output_type": "stream",
     "text": [
      "6\n"
     ]
    }
   ],
   "source": [
    "import pandas as pd\n",
    "\n",
    "df = pd.DataFrame({'A': [1, 2, 3], 'B': [4, 5, 6]})\n",
    "print(df.size)  "
   ]
  },
  {
   "cell_type": "markdown",
   "id": "28d86e2b-ef0c-4842-97e7-70f616af6961",
   "metadata": {},
   "source": [
    "### dataframe.shape()"
   ]
  },
  {
   "cell_type": "code",
   "execution_count": null,
   "id": "72f8b3f1-4772-4ff6-89b7-c2fa83d70d19",
   "metadata": {},
   "outputs": [],
   "source": [
    " DataFrame.shape: The DataFrame.shape attribute returns a tuple representing the dimensions of the DataFrame, i.e., the \n",
    "number of rows and columns. It provides the structure or shape of the DataFrame."
   ]
  },
  {
   "cell_type": "code",
   "execution_count": 18,
   "id": "ee71f386-6506-4bee-a550-dedfe0965edb",
   "metadata": {},
   "outputs": [
    {
     "name": "stdout",
     "output_type": "stream",
     "text": [
      "(3, 2)\n"
     ]
    }
   ],
   "source": [
    "import pandas as pd\n",
    "\n",
    "df = pd.DataFrame({'A': [1, 2, 3], 'B': [4, 5, 6]})\n",
    "print(df.shape)  "
   ]
  },
  {
   "cell_type": "markdown",
   "id": "4ff207b1-ace4-4811-ab81-db5fd9e4eaa9",
   "metadata": {},
   "source": [
    "## 6.Which function of pandas do we use to read an excel file?"
   ]
  },
  {
   "cell_type": "code",
   "execution_count": null,
   "id": "647d38dd-ec82-45b1-8535-47b537956bac",
   "metadata": {},
   "outputs": [],
   "source": [
    "~The function in pandas used to read an Excel file is pd.read_excel(). This function allows you to read the data from an \n",
    "Excel file and create a pandas DataFrame."
   ]
  },
  {
   "cell_type": "code",
   "execution_count": null,
   "id": "0b958fd8-7e12-4fca-a417-5924d898de16",
   "metadata": {},
   "outputs": [],
   "source": [
    "import pandas as pd\n",
    "\n",
    "# Read Excel file and create a DataFrame\n",
    "df = pd.read_excel('filename.xlsx')\n",
    "\n",
    "df = pd.read_excel('filename.xlsx', sheet_name='Sheet1')\n",
    "\n"
   ]
  },
  {
   "cell_type": "markdown",
   "id": "abedce97-3786-459d-9ead-f7ce27e4eaa4",
   "metadata": {},
   "source": [
    "## 7.You have a Pandas DataFrame df that contains a column named 'Email' that contains emailaddresses in the format 'username@domain.com'. Write a Python function that creates a new column'Username' in df that contains only the username part of each email address."
   ]
  },
  {
   "cell_type": "code",
   "execution_count": 21,
   "id": "cca74819-ae95-4f33-813a-7c4024cc72b2",
   "metadata": {},
   "outputs": [
    {
     "name": "stdout",
     "output_type": "stream",
     "text": [
      "                     Email     Username\n",
      "0     john.doe@example.com     john.doe\n",
      "1   jane.smith@example.com   jane.smith\n",
      "2  bob.johnson@example.com  bob.johnson\n"
     ]
    }
   ],
   "source": [
    "import pandas as pd\n",
    "\n",
    "def extract_username(df):\n",
    "    # Extract username from email address\n",
    "    df['Username'] = df['Email'].str.split('@').str[0]\n",
    "    \n",
    "    return df\n",
    "\n",
    "# Example usage\n",
    "df = pd.DataFrame({'Email': ['john.doe@example.com', 'jane.smith@example.com', 'bob.johnson@example.com']})\n",
    "\n",
    "df = extract_username(df)\n",
    "print(df)\n"
   ]
  },
  {
   "cell_type": "markdown",
   "id": "1ffae416-0b66-4e50-ac1e-d435bf46cf9c",
   "metadata": {},
   "source": [
    "## 8.Your function should select the following rows: A B C"
   ]
  },
  {
   "cell_type": "code",
   "execution_count": 22,
   "id": "1e4004c8-d48c-49e0-be27-3e5308d6f99d",
   "metadata": {},
   "outputs": [
    {
     "name": "stdout",
     "output_type": "stream",
     "text": [
      "   A  B  C\n",
      "1  8  2  7\n",
      "2  6  9  4\n",
      "4  9  1  2\n"
     ]
    }
   ],
   "source": [
    "import pandas as pd\n",
    "\n",
    "def select_rows(df):\n",
    "    selected_rows = df[(df['A'] > 5) & (df['B'] < 10)]\n",
    "    return selected_rows\n",
    "\n",
    "# Example usage\n",
    "df = pd.DataFrame({'A': [3, 8, 6, 2, 9], 'B': [5, 2, 9, 3, 1], 'C': [1, 7, 4, 5, 2]})\n",
    "\n",
    "selected_df = select_rows(df)\n",
    "print(selected_df)\n"
   ]
  },
  {
   "cell_type": "markdown",
   "id": "1e4e53a5-819d-46cc-8cef-98d764e8b034",
   "metadata": {},
   "source": [
    "## 9.Given a Pandas DataFrame df with a column 'Values', write a Python function to calculate the mean,median, and standard deviation of the values in the 'Values' column."
   ]
  },
  {
   "cell_type": "code",
   "execution_count": 24,
   "id": "032d822e-5be0-4593-8881-6e51bb87f679",
   "metadata": {},
   "outputs": [
    {
     "name": "stdout",
     "output_type": "stream",
     "text": [
      "Mean: 30.0\n",
      "Median: 30.0\n",
      "Standard Deviation: 14.142135623730951\n"
     ]
    }
   ],
   "source": [
    "import pandas as pd\n",
    "import numpy as np\n",
    "\n",
    "def calculate_stats(df):\n",
    "    values = df['Values']\n",
    "    mean = np.mean(values)\n",
    "    median = np.median(values)\n",
    "    std_dev = np.std(values)\n",
    "    return mean, median, std_dev\n",
    "\n",
    "# Example usage\n",
    "df = pd.DataFrame({'Values': [10, 20, 30, 40, 50]})\n",
    "\n",
    "mean, median, std_dev = calculate_stats(df)\n",
    "print(\"Mean:\", mean)\n",
    "print(\"Median:\", median)\n",
    "print(\"Standard Deviation:\", std_dev)\n"
   ]
  },
  {
   "cell_type": "markdown",
   "id": "eae3552c-05be-4e1b-9b1d-8cbedf71282f",
   "metadata": {},
   "source": [
    "## 10.Given a Pandas DataFrame df with a column 'Sales' and a column 'Date', write a Python function to create a new column 'MovingAverage' that contains the moving average of the sales for the past 7 days for each row in the DataFrame. The moving average should be calculated using a window of size 7 and should include the current day."
   ]
  },
  {
   "cell_type": "code",
   "execution_count": 25,
   "id": "8b49ddb3-7666-4618-ba6c-1273c7522ec7",
   "metadata": {},
   "outputs": [
    {
     "name": "stdout",
     "output_type": "stream",
     "text": [
      "        Date  Sales  MovingAverage\n",
      "0 2022-01-01     10           10.0\n",
      "1 2022-01-02     20           15.0\n",
      "2 2022-01-03     30           20.0\n",
      "3 2022-01-04     40           25.0\n",
      "4 2022-01-05     50           30.0\n",
      "5 2022-01-06     60           35.0\n",
      "6 2022-01-07     70           40.0\n",
      "7 2022-01-08     80           50.0\n",
      "8 2022-01-09     90           60.0\n",
      "9 2022-01-10    100           70.0\n"
     ]
    }
   ],
   "source": [
    "import pandas as pd\n",
    "\n",
    "def calculate_moving_average(df):\n",
    "    window_size = 7\n",
    "    df['MovingAverage'] = df['Sales'].rolling(window=window_size, min_periods=1).mean()\n",
    "\n",
    "# Example usage\n",
    "df = pd.DataFrame({'Date': pd.date_range(start='2022-01-01', periods=10),\n",
    "                   'Sales': [10, 20, 30, 40, 50, 60, 70, 80, 90, 100]})\n",
    "\n",
    "calculate_moving_average(df)\n",
    "print(df)\n"
   ]
  },
  {
   "cell_type": "markdown",
   "id": "1ad5ed8f-fd88-46df-ada2-29d4f64f6f0f",
   "metadata": {},
   "source": [
    "## 11.You have a Pandas DataFrame df with a column 'Date'. Write a Python function that creates a new"
   ]
  },
  {
   "cell_type": "code",
   "execution_count": null,
   "id": "17f30a88-b231-4bfd-90d4-9fb545be1b96",
   "metadata": {},
   "outputs": [],
   "source": [
    "import pandas as pd\n",
    "\n",
    "def add_weekday_column(df):\n",
    "    df['Weekday'] = df['Date'].dt.weekday_name\n",
    "\n",
    "# Example usage\n",
    "df = pd.DataFrame({'Date': pd.to_datetime(['2023-01-01', '2023-01-02', '2023-01-03', '2023-01-04', '2023-01-05'])})\n",
    "\n",
    "add_weekday_column(df)\n",
    "print(df)\n"
   ]
  },
  {
   "cell_type": "raw",
   "id": "4a85871c-264a-4497-9ab2-ce078710fda5",
   "metadata": {
    "jp-MarkdownHeadingCollapsed": true,
    "tags": []
   },
   "source": [
    "    Date    Weekday\n",
    "0 2023-01-01     Sunday\n",
    "1 2023-01-02     Monday\n",
    "2 2023-01-03    Tuesday\n",
    "3 2023-01-04  Wednesday\n",
    "4 2023-01-05   Thursday\n"
   ]
  },
  {
   "cell_type": "markdown",
   "id": "193f6f8a-5768-416f-987d-cde25913a248",
   "metadata": {},
   "source": [
    "## 12.Given a Pandas DataFrame df with a column 'Date' that contains timestamps, write a Python function to select all rows where the date is between '2023-01-01' and '2023-01-31'."
   ]
  },
  {
   "cell_type": "code",
   "execution_count": 38,
   "id": "2ed777cc-3246-4342-8427-a9db39b1dc56",
   "metadata": {},
   "outputs": [
    {
     "name": "stdout",
     "output_type": "stream",
     "text": [
      "         Date\n",
      "0  2023-01-01\n",
      "1  2023-01-02\n",
      "2  2023-01-03\n",
      "3  2023-01-04\n",
      "4  2023-01-05\n",
      "5  2023-01-06\n",
      "6  2023-01-07\n",
      "7  2023-01-08\n",
      "8  2023-01-09\n",
      "9  2023-01-10\n",
      "10 2023-01-11\n",
      "11 2023-01-12\n",
      "12 2023-01-13\n",
      "13 2023-01-14\n",
      "14 2023-01-15\n",
      "15 2023-01-16\n",
      "16 2023-01-17\n",
      "17 2023-01-18\n",
      "18 2023-01-19\n",
      "19 2023-01-20\n",
      "20 2023-01-21\n",
      "21 2023-01-22\n",
      "22 2023-01-23\n",
      "23 2023-01-24\n",
      "24 2023-01-25\n",
      "25 2023-01-26\n",
      "26 2023-01-27\n",
      "27 2023-01-28\n",
      "28 2023-01-29\n",
      "29 2023-01-30\n",
      "30 2023-01-31\n"
     ]
    }
   ],
   "source": [
    "import pandas as pd\n",
    "\n",
    "def select_rows_by_date(df, start_date, end_date):\n",
    "    mask = (df['Date'] >= start_date) & (df['Date'] <= end_date)\n",
    "    selected_rows = df[mask]\n",
    "    return selected_rows\n",
    "\n",
    "# Example usage\n",
    "df = pd.DataFrame({'Date': pd.date_range(start='2023-01-01', end='2023-02-28')})\n",
    "start_date = '2023-01-01'\n",
    "end_date = '2023-01-31'\n",
    "selected_rows = select_rows_by_date(df, start_date, end_date)\n",
    "print(selected_rows)\n"
   ]
  },
  {
   "cell_type": "markdown",
   "id": "a198eb90-f1f3-4e0d-bdab-43f49b07de51",
   "metadata": {},
   "source": [
    "## 13.To use the basic functions of pandas, what is the first and foremost necessary library that needs to be imported?"
   ]
  },
  {
   "cell_type": "code",
   "execution_count": 39,
   "id": "8f7ad3ed-070d-4d38-a311-5931abf58dc3",
   "metadata": {},
   "outputs": [
    {
     "name": "stdout",
     "output_type": "stream",
     "text": [
      "    Name  Age      City\n",
      "0   John   25  New York\n",
      "1  Alice   30    London\n",
      "2    Bob   35     Paris\n",
      "0     John\n",
      "1    Alice\n",
      "2      Bob\n",
      "Name: Name, dtype: object\n",
      "0    25\n",
      "1    30\n",
      "2    35\n",
      "Name: Age, dtype: int64\n",
      "Average age: 30.0\n"
     ]
    }
   ],
   "source": [
    "import pandas as pd\n",
    "\n",
    "# Create a DataFrame\n",
    "data = {'Name': ['John', 'Alice', 'Bob'],\n",
    "        'Age': [25, 30, 35],\n",
    "        'City': ['New York', 'London', 'Paris']}\n",
    "df = pd.DataFrame(data)\n",
    "\n",
    "# Display the DataFrame\n",
    "print(df)\n",
    "\n",
    "# Access columns\n",
    "print(df['Name'])\n",
    "print(df['Age'])\n",
    "\n",
    "# Perform calculations\n",
    "average_age = df['Age'].mean()\n",
    "print('Average age:', average_age)\n"
   ]
  },
  {
   "cell_type": "code",
   "execution_count": null,
   "id": "2a1ae975-2b30-4222-b1e2-6e4c0d431eae",
   "metadata": {},
   "outputs": [],
   "source": []
  },
  {
   "cell_type": "code",
   "execution_count": null,
   "id": "ef13a444-0503-40f6-a34e-d0842cf6f7dd",
   "metadata": {},
   "outputs": [],
   "source": []
  },
  {
   "cell_type": "code",
   "execution_count": null,
   "id": "792a1746-4d80-44f8-94d2-b295ddde05c1",
   "metadata": {},
   "outputs": [],
   "source": []
  }
 ],
 "metadata": {
  "kernelspec": {
   "display_name": "Python 3 (ipykernel)",
   "language": "python",
   "name": "python3"
  },
  "language_info": {
   "codemirror_mode": {
    "name": "ipython",
    "version": 3
   },
   "file_extension": ".py",
   "mimetype": "text/x-python",
   "name": "python",
   "nbconvert_exporter": "python",
   "pygments_lexer": "ipython3",
   "version": "3.10.8"
  }
 },
 "nbformat": 4,
 "nbformat_minor": 5
}
